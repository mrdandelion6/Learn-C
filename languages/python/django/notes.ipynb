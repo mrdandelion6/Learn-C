{
 "cells": [
  {
   "cell_type": "markdown",
   "metadata": {},
   "source": [
    "# django notes\n",
    "\n",
    "## prerequisites\n",
    "- python\n",
    "- jupyter notebooks (to run code in these notes)\n",
    "- classes\n",
    "- inheritance\n",
    "- relational databases\n",
    "\n",
    "## references\n",
    "\n",
    "note that most of these notes are based off the official django documentation, which is very good. you can find it [here](https://docs.djangoproject.com/en/5.1/intro/tutorial01/) for the current latest version (5.1)."
   ]
  },
  {
   "cell_type": "markdown",
   "metadata": {
    "vscode": {
     "languageId": "plaintext"
    }
   },
   "source": [
    "## setup\n",
    "\n",
    "to get started with you will want a version of python that supports django. im currently using `python 3.12.1`. you can check your python version using `python --version` in terminal or you can run the code cell below"
   ]
  },
  {
   "cell_type": "code",
   "execution_count": 1,
   "metadata": {},
   "outputs": [
    {
     "name": "stdout",
     "output_type": "stream",
     "text": [
      "3.12.1 (tags/v3.12.1:2305ca5, Dec  7 2023, 22:03:25) [MSC v.1937 64 bit (AMD64)]\n"
     ]
    }
   ],
   "source": [
    "import sys\n",
    "print(sys.version)"
   ]
  },
  {
   "cell_type": "markdown",
   "metadata": {},
   "source": [
    "for using django, you need to first \"make a project\", like you would have to with react. in terminal (bash, powershell, etc), type the following command:\n",
    "```bash\n",
    "django-admin startproject mysite\n",
    "```\n",
    "\n",
    "for example, the django project i made for these notes is called `django_project`. within `django_project`, we see two direct children files:\n",
    "- `manage.py`\n",
    "- `django_project/`\n",
    "\n",
    "under `django_project/`, we see the following files:\n",
    "```bash\n",
    "manage.py\n",
    "django_project/\n",
    "    __init__.py\n",
    "    asgi.py\n",
    "    settings.py\n",
    "    urls.py\n",
    "    wsgi.py\n",
    "```\n",
    "\n",
    "### django project files\n",
    "- `manage.py` - a command line utility that lets you interact with the django project\n",
    "- `__init__.py` - tells python that this directory should be treated as a package\n",
    "- `settings.py` - contains the settings for the django project\n",
    "- `urls.py` - contains the URL declarations for the django project. i.e. the \"table of contents\" for the django project\n",
    "- `asgi.py` - an entry-point for ASGI-compatible web servers to serve the django project\n",
    "- `wsgi.py` - an entry-point for WSGI-compatible web servers to serve the django project\n",
    "\n",
    "we will briefly go over what **ASGI** and **WSGI** are in the next section"
   ]
  },
  {
   "cell_type": "markdown",
   "metadata": {},
   "source": [
    "## ASGI \n",
    "ASGI stands for Asynchronous Server Gateway Interface. it is a standard interface between asynchronous Python web servers and applications. ASGI is designed to support asynchronous frameworks like Django Channels, which is used for handling WebSockets, HTTP2, and other protocols that require long-lived connections.\n",
    "\n",
    "by **asynchronous** we mean that the server can handle multiple requests at the same time. this is in contrast to **synchronous** servers which can only handle one request at a time.\n",
    "\n",
    "## WSGI\n",
    "WSGI stands for Web Server Gateway Interface. it is a standard interface between web servers and Python web applications or frameworks. WSGI is a synchronous interface, meaning that it can only handle one request at a time.\n",
    "\n",
    "## ASGI vs WSGI\n",
    "- WSGI is synchronous, while ASGI is asynchronous.\n",
    "- use WSGI for traditional web applications that only need to handle HTTP requests, example: a blog.\n",
    "- use ASGI for applications that need to handle long-lived connections, such as WebSockets or HTTP2, example: a chat application.\n",
    "\n",
    "\n",
    "we won't get further into these, but perhaps i will make notes for them in my `topics/http` folder later on."
   ]
  },
  {
   "cell_type": "markdown",
   "metadata": {},
   "source": [
    "## development server\n",
    "\n",
    "if you've done any webdev before, you'll be familiar with the term \"development server\". this is the server we use to run our django project as we build or modify it. later on you can deploy your django project to a production server, but we will cover that later.\n",
    "\n",
    "we can start our development server as follows:\n",
    "```bash\n",
    "cd django_project\n",
    "python manage.py runserver\n",
    "```\n",
    "\n",
    "you will see the following output error:\n",
    "```bash\n",
    "Watching for file changes with StatReloader\n",
    "Performing system checks...\n",
    "\n",
    "System check identified no issues (0 silenced).\n",
    "\n",
    "You have 18 unapplied migration(s). Your project may not work properly until you apply the migrations for app(s): admin, auth, contenttypes, sessions.\n",
    "Run 'python manage.py migrate' to apply them.\n",
    "September 17, 2024 - 17:48:24\n",
    "Django version 5.1.1, using settings 'django_project.settings'\n",
    "Starting development server at http://127.0.0.1:8000/\n",
    "Quit the server with CTRL-BREAK.\n",
    "```\n",
    "\n",
    "we will ignore the warnings about the unapplied database migrations for now and address this later.\n",
    "\n",
    "note that the server is running at `http://127.0.0.1:8000/`, this is localhost, and the port is `8000`. you can access the server by going to `http://localhost:8000/` in your browser. you should see a congratulations message with a rocket ship icon.\n",
    "\n",
    "nice, we've started a django server, a lightweight web server written purely in python. you can worry about configuring a production server later on, with something like **apache** or **nginx**."
   ]
  }
 ],
 "metadata": {
  "kernelspec": {
   "display_name": "Learn-to-Code",
   "language": "python",
   "name": "python3"
  },
  "language_info": {
   "codemirror_mode": {
    "name": "ipython",
    "version": 3
   },
   "file_extension": ".py",
   "mimetype": "text/x-python",
   "name": "python",
   "nbconvert_exporter": "python",
   "pygments_lexer": "ipython3",
   "version": "3.12.1"
  }
 },
 "nbformat": 4,
 "nbformat_minor": 2
}
