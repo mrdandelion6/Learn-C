{
 "cells": [
  {
   "cell_type": "markdown",
   "metadata": {},
   "source": [
    "# Django Notes\n",
    "\n",
    "## prerequisites\n",
    "- python\n",
    "- classes\n",
    "- inheritance\n",
    "- relational databases"
   ]
  }
 ],
 "metadata": {
  "kernelspec": {
   "display_name": "Learn-to-Code",
   "language": "python",
   "name": "python3"
  },
  "language_info": {
   "name": "python",
   "version": "3.12.1"
  }
 },
 "nbformat": 4,
 "nbformat_minor": 2
}
