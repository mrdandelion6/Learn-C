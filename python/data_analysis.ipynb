{
 "cells": [
  {
   "cell_type": "markdown",
   "metadata": {},
   "source": [
    "# Data Analysis & using Jupyter Notebooks "
   ]
  },
  {
   "cell_type": "markdown",
   "metadata": {},
   "source": [
    "In this notebook, we go over data analytics using Python. We will learn about using NumPy, Pandas, and Matplotlib from the ground up."
   ]
  },
  {
   "cell_type": "code",
   "execution_count": 1,
   "metadata": {},
   "outputs": [],
   "source": [
    "import pandas as pd\n",
    "import numpy as np\n",
    "import matplotlib.pyplot as plt"
   ]
  },
  {
   "cell_type": "markdown",
   "metadata": {},
   "source": [
    "### Pandas,  NumPy, and Matplotlib\n",
    "\n",
    "Pandas provides useful data structures and functions to manipulate data. NumPy provides mathematical operations (such as standard deviation) which can be used on data sets. Matplotlib provides data visualization for datasets."
   ]
  },
  {
   "cell_type": "markdown",
   "metadata": {},
   "source": [
    "---\n",
    "## Pandas\n",
    "\n",
    "Pandas has two main data structures, **Series** and **DataFrames**. \n",
    "\n",
    "Here are some useful things you can do with Pandas:\n",
    "- Convert data from one format to another\n",
    "- Perform arithmetic operations on rows and columns\n",
    "- Merge and join data sets\n",
    "- Perform statistical operations"
   ]
  },
  {
   "cell_type": "markdown",
   "metadata": {},
   "source": [
    "---\n",
    "### Series\n",
    "A one dimensional array-like object that can hold any data type. Basically a single column in a spread sheet."
   ]
  },
  {
   "cell_type": "markdown",
   "metadata": {},
   "source": [
    "---\n",
    "### DataFrames\n",
    "A two dimensional table of data with rows and columns. You can think of it like a spreadsheet or SQL table, or a dictionary of series object. DataFrame is a class from Pandas.\n",
    "\n",
    "These are some of the attributes of DataFrame():\n",
    "\n",
    "- data : ndarray (structured or homogeneous), Iterable, dict, or DataFrame\n",
    "    Dict can contain Series, arrays, constants, dataclass or list-like objects.\n",
    "\n",
    "- index : Index or array-like. Gives the row labels.\n",
    "\n",
    "- columns : Index or array-like. Gives the column labels.\n",
    "\n",
    "- dtype : dtype, default None. Data type to force. Only a single dtype is allowed. If None, infer.\n",
    "\n",
    "- copy : bool or None, default None\n",
    "    Copy data from input data propertyu. For dict data, the default of None behaves like copy=True. For DataFrame\n",
    "    or 2d ndarray input, the default of None behaves like copy=False.\n",
    "    If data is a dict containing one or more Series (possibly of different dtypes),\n",
    "    copy=False will ensure that these inputs are not copied.\n",
    "\n",
    "Here is an example of making a data frame with a dictionary object:"
   ]
  },
  {
   "cell_type": "code",
   "execution_count": 1,
   "metadata": {},
   "outputs": [
    {
     "data": {
      "text/html": [
       "<div>\n",
       "<style scoped>\n",
       "    .dataframe tbody tr th:only-of-type {\n",
       "        vertical-align: middle;\n",
       "    }\n",
       "\n",
       "    .dataframe tbody tr th {\n",
       "        vertical-align: top;\n",
       "    }\n",
       "\n",
       "    .dataframe thead th {\n",
       "        text-align: right;\n",
       "    }\n",
       "</style>\n",
       "<table border=\"1\" class=\"dataframe\">\n",
       "  <thead>\n",
       "    <tr style=\"text-align: right;\">\n",
       "      <th></th>\n",
       "      <th>Name</th>\n",
       "      <th>Age</th>\n",
       "      <th>Gender</th>\n",
       "    </tr>\n",
       "  </thead>\n",
       "  <tbody>\n",
       "    <tr>\n",
       "      <th>0</th>\n",
       "      <td>Alice</td>\n",
       "      <td>25</td>\n",
       "      <td>F</td>\n",
       "    </tr>\n",
       "    <tr>\n",
       "      <th>1</th>\n",
       "      <td>Bob</td>\n",
       "      <td>30</td>\n",
       "      <td>M</td>\n",
       "    </tr>\n",
       "    <tr>\n",
       "      <th>2</th>\n",
       "      <td>Charlie</td>\n",
       "      <td>35</td>\n",
       "      <td>M</td>\n",
       "    </tr>\n",
       "  </tbody>\n",
       "</table>\n",
       "</div>"
      ],
      "text/plain": [
       "      Name  Age Gender\n",
       "0    Alice   25      F\n",
       "1      Bob   30      M\n",
       "2  Charlie   35      M"
      ]
     },
     "execution_count": 1,
     "metadata": {},
     "output_type": "execute_result"
    }
   ],
   "source": [
    "import pandas as pd\n",
    "\n",
    "# Create a dictionary with sample data\n",
    "data = {'Name': ['Alice', 'Bob', 'Charlie'],\n",
    "    'Age': [25, 30, 35],\n",
    "    'Gender': ['F', 'M', 'M']}\n",
    "\n",
    "# Create the dataframe\n",
    "df = pd.DataFrame(data)\n",
    "\n",
    "# Print the dataframe\n",
    "df"
   ]
  },
  {
   "cell_type": "markdown",
   "metadata": {},
   "source": [
    "The above example shows making a data frame from a Python dictionary. Each key value pair will be inserted as a column. Another way we might make a data frame is by passing in an `ndarray` as our data and specifying the columns manually."
   ]
  },
  {
   "cell_type": "code",
   "execution_count": 4,
   "metadata": {},
   "outputs": [
    {
     "data": {
      "text/html": [
       "<div>\n",
       "<style scoped>\n",
       "    .dataframe tbody tr th:only-of-type {\n",
       "        vertical-align: middle;\n",
       "    }\n",
       "\n",
       "    .dataframe tbody tr th {\n",
       "        vertical-align: top;\n",
       "    }\n",
       "\n",
       "    .dataframe thead th {\n",
       "        text-align: right;\n",
       "    }\n",
       "</style>\n",
       "<table border=\"1\" class=\"dataframe\">\n",
       "  <thead>\n",
       "    <tr style=\"text-align: right;\">\n",
       "      <th></th>\n",
       "      <th>ID</th>\n",
       "      <th>Name</th>\n",
       "      <th>Age</th>\n",
       "    </tr>\n",
       "  </thead>\n",
       "  <tbody>\n",
       "    <tr>\n",
       "      <th>0</th>\n",
       "      <td>1</td>\n",
       "      <td>Alice</td>\n",
       "      <td>24</td>\n",
       "    </tr>\n",
       "    <tr>\n",
       "      <th>1</th>\n",
       "      <td>2</td>\n",
       "      <td>Bob</td>\n",
       "      <td>41</td>\n",
       "    </tr>\n",
       "    <tr>\n",
       "      <th>2</th>\n",
       "      <td>3</td>\n",
       "      <td>Charlie</td>\n",
       "      <td>17</td>\n",
       "    </tr>\n",
       "  </tbody>\n",
       "</table>\n",
       "</div>"
      ],
      "text/plain": [
       "  ID     Name Age\n",
       "0  1    Alice  24\n",
       "1  2      Bob  41\n",
       "2  3  Charlie  17"
      ]
     },
     "execution_count": 4,
     "metadata": {},
     "output_type": "execute_result"
    }
   ],
   "source": [
    "import pandas as pd\n",
    "import numpy as np\n",
    "\n",
    "# create an ndarray\n",
    "data_array = np.array([[1, 'Alice', 24], \n",
    "                       [2, 'Bob', 41], \n",
    "                       [3, 'Charlie', 17]])\n",
    "\n",
    "# specify column names\n",
    "columns = ['ID', 'Name', 'Age']\n",
    "\n",
    "# create the DataFrame\n",
    "df = pd.DataFrame(data=data_array, columns=columns)\n",
    "\n",
    "df"
   ]
  },
  {
   "cell_type": "markdown",
   "metadata": {},
   "source": [
    "In this case, each element in the `ndarray` gets passed as a row into the data frame. Note that all the rows are labelled 0, 1, 2. By default, Pandas will make a data frame with the row names as range-index (going from 0 to n for n + 1 rows of data). \n",
    "\n",
    "Just like we specified columns, we can specify the rows. Usually we don't do this because an index works, but suppose we would like to change our row names to A, B, C:"
   ]
  },
  {
   "cell_type": "code",
   "execution_count": 2,
   "metadata": {},
   "outputs": [
    {
     "ename": "NameError",
     "evalue": "name 'pd' is not defined",
     "output_type": "error",
     "traceback": [
      "\u001b[1;31m---------------------------------------------------------------------------\u001b[0m",
      "\u001b[1;31mNameError\u001b[0m                                 Traceback (most recent call last)",
      "Cell \u001b[1;32mIn[2], line 4\u001b[0m\n\u001b[0;32m      1\u001b[0m data \u001b[38;5;241m=\u001b[39m {\u001b[38;5;124m'\u001b[39m\u001b[38;5;124mName\u001b[39m\u001b[38;5;124m'\u001b[39m: [\u001b[38;5;124m'\u001b[39m\u001b[38;5;124mAlice\u001b[39m\u001b[38;5;124m'\u001b[39m, \u001b[38;5;124m'\u001b[39m\u001b[38;5;124mBob\u001b[39m\u001b[38;5;124m'\u001b[39m, \u001b[38;5;124m'\u001b[39m\u001b[38;5;124mCharlie\u001b[39m\u001b[38;5;124m'\u001b[39m], \u001b[38;5;124m'\u001b[39m\u001b[38;5;124mAge\u001b[39m\u001b[38;5;124m'\u001b[39m: [\u001b[38;5;241m25\u001b[39m, \u001b[38;5;241m30\u001b[39m, \u001b[38;5;241m35\u001b[39m]}\n\u001b[0;32m      3\u001b[0m \u001b[38;5;66;03m# we can specify the rows using index argument\u001b[39;00m\n\u001b[1;32m----> 4\u001b[0m df \u001b[38;5;241m=\u001b[39m \u001b[43mpd\u001b[49m\u001b[38;5;241m.\u001b[39mDataFrame(data, index\u001b[38;5;241m=\u001b[39m[\u001b[38;5;124m'\u001b[39m\u001b[38;5;124mA\u001b[39m\u001b[38;5;124m'\u001b[39m, \u001b[38;5;124m'\u001b[39m\u001b[38;5;124mB\u001b[39m\u001b[38;5;124m'\u001b[39m, \u001b[38;5;124m'\u001b[39m\u001b[38;5;124mC\u001b[39m\u001b[38;5;124m'\u001b[39m])\n\u001b[0;32m      6\u001b[0m df\n",
      "\u001b[1;31mNameError\u001b[0m: name 'pd' is not defined"
     ]
    }
   ],
   "source": [
    "data = {'Name': ['Alice', 'Bob', 'Charlie'], 'Age': [25, 30, 35]}\n",
    "\n",
    "# we can specify the rows using index argument\n",
    "df = pd.DataFrame(data, index=['A', 'B', 'C'])\n",
    "\n",
    "df"
   ]
  },
  {
   "cell_type": "markdown",
   "metadata": {},
   "source": [
    "Observe that we no longer have 0, 1, 2, but instead A, B, C for the row labels."
   ]
  },
  {
   "cell_type": "markdown",
   "metadata": {},
   "source": [
    "---\n",
    "## Matplotlib"
   ]
  },
  {
   "cell_type": "markdown",
   "metadata": {},
   "source": [
    "### Intro\n",
    "\n",
    "Matplotlib is a fairly easy to use tool. It is mainly for just visualizing graphs or depictions of data. You just need to memorize different functions and the syntax to use, that's it.\n",
    "\n",
    "**plt.show()** : used to show the most recently plot created using `matplotlib.pyplot`. \n",
    "- optional for Jupyter because the notebook interface automatically displays plot (but it's cleaner when we use it regardless)\n",
    "- needed for actual Python scripts or it won't show otherwise\n",
    "- also starts and event loop that waits for any interactions with the figure such as key presses or mouse clicks. the loop termiantes when the figure is closed\n",
    "- blocks python script from executing while showing the figure. this is because of the event loop. control is returned to the script when figure is closed"
   ]
  },
  {
   "cell_type": "markdown",
   "metadata": {},
   "source": [
    "### Box Plots"
   ]
  },
  {
   "cell_type": "markdown",
   "metadata": {},
   "source": [
    "Box plots, also known as box and whisker plots, are a compact graphical depiction of some distribution data. For example, we can make a box plot for the grade distribution of students at a university."
   ]
  },
  {
   "cell_type": "code",
   "execution_count": 3,
   "metadata": {},
   "outputs": [
    {
     "data": {
      "image/png": "[encoded data removed]",
      "text/plain": [
       "<Figure size 640x480 with 1 Axes>"
      ]
     },
     "metadata": {},
     "output_type": "display_data"
    }
   ],
   "source": [
    "import matplotlib.pyplot as plt\n",
    "\n",
    "grades = [88, 74, 96, 85, 62, 55, 91, 77, 83, 90, 78, 80, 87, 95, 72, 69, 88, 92, 85, 76, 93, 81, 94, 79, 84, 70, 89, 82, 75, 86, 73, 97, 68, 71, 98, 67, 60, 99, 66, 63, 30, 65, 61, 59, 64, 58]\n",
    "plt.boxplot(grades)\n",
    "plt.show()"
   ]
  },
  {
   "cell_type": "markdown",
   "metadata": {},
   "source": [
    "## Numpy"
   ]
  },
  {
   "cell_type": "markdown",
   "metadata": {},
   "source": [
    "### Matrix Multiplication\n",
    "\n",
    "We will write a Python script to generate two random matrices, multiply them, and chek whether their result is identical. \n",
    "\n",
    "We show matrix multiplication both with NumPy and using for loops."
   ]
  },
  {
   "cell_type": "code",
   "execution_count": 12,
   "metadata": {},
   "outputs": [
    {
     "data": {
      "text/plain": [
       "True"
      ]
     },
     "execution_count": 12,
     "metadata": {},
     "output_type": "execute_result"
    }
   ],
   "source": [
    "import numpy as np\n",
    "\n",
    "def multiply_with_loops(A, B):\n",
    "    # get the dimensions of the input matrices\n",
    "    # we will assume that the matrices are just nested lists\n",
    "    rows_A = len(A)\n",
    "    cols_A = len(A[0])\n",
    "    cols_B = len(B[0])\n",
    "    C = [[0 for row in range(cols_B)] for col in range(rows_A)]\n",
    "\n",
    "    # we will assume that the matrices are compatible for multiplication\n",
    "    for i in range(rows_A): # iterate over the rows of A\n",
    "        for j in range(cols_B): # iterate over the columns of B\n",
    "            for k in range(cols_A): \n",
    "                C[i][j] += A[i][k] * B[k][j]\n",
    "\n",
    "    return C\n",
    "\n",
    "def multiply_with_numpy(A, B):\n",
    "    return np.dot(A, B)\n",
    "\n",
    "def check_equal(A, B):\n",
    "    A = np.array(A)\n",
    "    return np.allclose(A, B) # this function checks if two arrays are equal within some tolerance \n",
    "    # this is because numpy arrays round off the values more than python lists\n",
    "\n",
    "# create two random matrices of dimensions 2x3 and 3x4 respectively\n",
    "A = np.random.rand(2, 3)\n",
    "B = np.random.rand(3, 4)\n",
    "\n",
    "check_equal(multiply_with_loops(A, B), multiply_with_numpy(A, B))"
   ]
  },
  {
   "cell_type": "markdown",
   "metadata": {},
   "source": []
  }
 ],
 "metadata": {
  "kernelspec": {
   "display_name": "env",
   "language": "python",
   "name": "python3"
  },
  "language_info": {
   "codemirror_mode": {
    "name": "ipython",
    "version": 3
   },
   "file_extension": ".py",
   "mimetype": "text/x-python",
   "name": "python",
   "nbconvert_exporter": "python",
   "pygments_lexer": "ipython3",
   "version": "3.12.1"
  }
 },
 "nbformat": 4,
 "nbformat_minor": 2
}
