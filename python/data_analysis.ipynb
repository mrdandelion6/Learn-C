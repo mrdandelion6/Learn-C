{
 "cells": [
  {
   "cell_type": "markdown",
   "metadata": {},
   "source": [
    "# Data Analysis & using Jupyter Notebooks "
   ]
  },
  {
   "cell_type": "markdown",
   "metadata": {},
   "source": [
    "In this notebook, we go over data analytics using Python. We will learn about using NumPy, Pandas, and Matplotlib from the ground up."
   ]
  },
  {
   "cell_type": "code",
   "execution_count": 27,
   "metadata": {},
   "outputs": [],
   "source": [
    "import pandas as pd\n",
    "import numpy as np\n",
    "import matplotlib.pyplot as plt"
   ]
  },
  {
   "cell_type": "markdown",
   "metadata": {},
   "source": [
    "### Pandas,  NumPy, and Matplotlib\n",
    "\n",
    "Pandas provides useful data structures and functions to manipulate data. NumPy provides mathematical operations (such as standard deviation) which can be used on data sets. Matplotlib provides data visualization for datasets."
   ]
  },
  {
   "cell_type": "markdown",
   "metadata": {},
   "source": [
    "---\n",
    "## Pandas\n",
    "\n",
    "Pandas has two main data structures, **Series** and **DataFrames**. \n",
    "\n",
    "Here are some useful things you can do with Pandas:\n",
    "- Convert data from one format to another\n",
    "- Perform arithmetic operations on rows and columns\n",
    "- Merge and join data sets\n",
    "- Perform statistical operations"
   ]
  },
  {
   "cell_type": "markdown",
   "metadata": {},
   "source": [
    "---\n",
    "### Series\n",
    "A one dimensional array-like object that can hold any data type. Basically a single column in a spread sheet."
   ]
  },
  {
   "cell_type": "markdown",
   "metadata": {},
   "source": [
    "---\n",
    "### DataFrames\n",
    "A two dimensional table of data with rows and columns. You can think of it like a spreadsheet or SQL table, or a dictionary of series object. DataFrame is a class from Pandas. Each column in a DataFrame is a series object.\n",
    "\n",
    "These are some of the attributes of DataFrame():\n",
    "\n",
    "- data : ndarray (structured or homogeneous), Iterable, dict, or DataFrame\n",
    "    Dict can contain Series, arrays, constants, dataclass or list-like objects.\n",
    "\n",
    "- index : Index or array-like. Gives the row labels.\n",
    "\n",
    "- columns : Index or array-like. Gives the column labels.\n",
    "\n",
    "- dtype : dtype, default None. Data type to force. Only a single dtype is allowed. If None, infer.\n",
    "\n",
    "- copy : bool or None, default None\n",
    "    Copy data from input data propertyu. For dict data, the default of None behaves like copy=True. For DataFrame\n",
    "    or 2d ndarray input, the default of None behaves like copy=False.\n",
    "    If data is a dict containing one or more Series (possibly of different dtypes),\n",
    "    copy=False will ensure that these inputs are not copied.\n",
    "\n",
    "Here is an example of making a data frame with a dictionary object:"
   ]
  },
  {
   "cell_type": "code",
   "execution_count": 28,
   "metadata": {},
   "outputs": [
    {
     "data": {
      "text/html": [
       "<div>\n",
       "<style scoped>\n",
       "    .dataframe tbody tr th:only-of-type {\n",
       "        vertical-align: middle;\n",
       "    }\n",
       "\n",
       "    .dataframe tbody tr th {\n",
       "        vertical-align: top;\n",
       "    }\n",
       "\n",
       "    .dataframe thead th {\n",
       "        text-align: right;\n",
       "    }\n",
       "</style>\n",
       "<table border=\"1\" class=\"dataframe\">\n",
       "  <thead>\n",
       "    <tr style=\"text-align: right;\">\n",
       "      <th></th>\n",
       "      <th>Name</th>\n",
       "      <th>Age</th>\n",
       "      <th>Gender</th>\n",
       "    </tr>\n",
       "  </thead>\n",
       "  <tbody>\n",
       "    <tr>\n",
       "      <th>0</th>\n",
       "      <td>Alice</td>\n",
       "      <td>25</td>\n",
       "      <td>F</td>\n",
       "    </tr>\n",
       "    <tr>\n",
       "      <th>1</th>\n",
       "      <td>Bob</td>\n",
       "      <td>30</td>\n",
       "      <td>M</td>\n",
       "    </tr>\n",
       "    <tr>\n",
       "      <th>2</th>\n",
       "      <td>Charlie</td>\n",
       "      <td>35</td>\n",
       "      <td>M</td>\n",
       "    </tr>\n",
       "  </tbody>\n",
       "</table>\n",
       "</div>"
      ],
      "text/plain": [
       "      Name  Age Gender\n",
       "0    Alice   25      F\n",
       "1      Bob   30      M\n",
       "2  Charlie   35      M"
      ]
     },
     "execution_count": 28,
     "metadata": {},
     "output_type": "execute_result"
    }
   ],
   "source": [
    "import pandas as pd\n",
    "\n",
    "# create a dictionary with sample data\n",
    "data = {'Name': ['Alice', 'Bob', 'Charlie'],\n",
    "    'Age': [25, 30, 35],\n",
    "    'Gender': ['F', 'M', 'M']}\n",
    "\n",
    "# create the dataframe\n",
    "df = pd.DataFrame(data)\n",
    "\n",
    "df"
   ]
  },
  {
   "cell_type": "markdown",
   "metadata": {},
   "source": [
    "The above example shows making a data frame from a Python dictionary. Each key value pair will be inserted as a column. Another way we might make a data frame is by passing in an `ndarray` as our data and specifying the columns manually."
   ]
  },
  {
   "cell_type": "code",
   "execution_count": 29,
   "metadata": {},
   "outputs": [
    {
     "data": {
      "text/html": [
       "<div>\n",
       "<style scoped>\n",
       "    .dataframe tbody tr th:only-of-type {\n",
       "        vertical-align: middle;\n",
       "    }\n",
       "\n",
       "    .dataframe tbody tr th {\n",
       "        vertical-align: top;\n",
       "    }\n",
       "\n",
       "    .dataframe thead th {\n",
       "        text-align: right;\n",
       "    }\n",
       "</style>\n",
       "<table border=\"1\" class=\"dataframe\">\n",
       "  <thead>\n",
       "    <tr style=\"text-align: right;\">\n",
       "      <th></th>\n",
       "      <th>ID</th>\n",
       "      <th>Name</th>\n",
       "      <th>Age</th>\n",
       "    </tr>\n",
       "  </thead>\n",
       "  <tbody>\n",
       "    <tr>\n",
       "      <th>0</th>\n",
       "      <td>1</td>\n",
       "      <td>Alice</td>\n",
       "      <td>24</td>\n",
       "    </tr>\n",
       "    <tr>\n",
       "      <th>1</th>\n",
       "      <td>2</td>\n",
       "      <td>Bob</td>\n",
       "      <td>41</td>\n",
       "    </tr>\n",
       "    <tr>\n",
       "      <th>2</th>\n",
       "      <td>3</td>\n",
       "      <td>Charlie</td>\n",
       "      <td>17</td>\n",
       "    </tr>\n",
       "  </tbody>\n",
       "</table>\n",
       "</div>"
      ],
      "text/plain": [
       "  ID     Name Age\n",
       "0  1    Alice  24\n",
       "1  2      Bob  41\n",
       "2  3  Charlie  17"
      ]
     },
     "execution_count": 29,
     "metadata": {},
     "output_type": "execute_result"
    }
   ],
   "source": [
    "import pandas as pd\n",
    "import numpy as np\n",
    "\n",
    "# create an ndarray\n",
    "data_array = np.array([[1, 'Alice', 24], \n",
    "                       [2, 'Bob', 41], \n",
    "                       [3, 'Charlie', 17]])\n",
    "\n",
    "# specify column names\n",
    "columns = ['ID', 'Name', 'Age']\n",
    "\n",
    "df = pd.DataFrame(data=data_array, columns=columns)\n",
    "\n",
    "df"
   ]
  },
  {
   "cell_type": "markdown",
   "metadata": {},
   "source": [
    "In this case, each element in the `ndarray` gets passed as a row into the data frame. Note that all the rows are labelled 0, 1, 2. By default, Pandas will make a data frame with the row names as range-index (going from 0 to n for n + 1 rows of data). \n",
    "\n",
    "Note that we could have done the same thing but using a python list instead of an `ndarray`. We get the same result as shown below:"
   ]
  },
  {
   "cell_type": "code",
   "execution_count": 35,
   "metadata": {},
   "outputs": [
    {
     "data": {
      "text/html": [
       "<div>\n",
       "<style scoped>\n",
       "    .dataframe tbody tr th:only-of-type {\n",
       "        vertical-align: middle;\n",
       "    }\n",
       "\n",
       "    .dataframe tbody tr th {\n",
       "        vertical-align: top;\n",
       "    }\n",
       "\n",
       "    .dataframe thead th {\n",
       "        text-align: right;\n",
       "    }\n",
       "</style>\n",
       "<table border=\"1\" class=\"dataframe\">\n",
       "  <thead>\n",
       "    <tr style=\"text-align: right;\">\n",
       "      <th></th>\n",
       "      <th>ID</th>\n",
       "      <th>Name</th>\n",
       "      <th>Age</th>\n",
       "    </tr>\n",
       "  </thead>\n",
       "  <tbody>\n",
       "    <tr>\n",
       "      <th>0</th>\n",
       "      <td>1</td>\n",
       "      <td>Alice</td>\n",
       "      <td>24</td>\n",
       "    </tr>\n",
       "    <tr>\n",
       "      <th>1</th>\n",
       "      <td>2</td>\n",
       "      <td>Bob</td>\n",
       "      <td>41</td>\n",
       "    </tr>\n",
       "    <tr>\n",
       "      <th>2</th>\n",
       "      <td>3</td>\n",
       "      <td>Charlie</td>\n",
       "      <td>17</td>\n",
       "    </tr>\n",
       "  </tbody>\n",
       "</table>\n",
       "</div>"
      ],
      "text/plain": [
       "   ID     Name  Age\n",
       "0   1    Alice   24\n",
       "1   2      Bob   41\n",
       "2   3  Charlie   17"
      ]
     },
     "execution_count": 35,
     "metadata": {},
     "output_type": "execute_result"
    }
   ],
   "source": [
    "columns = ['ID', 'Name', 'Age']\n",
    "\n",
    "data_array = [[1, 'Alice', 24], \n",
    "              [2, 'Bob', 41], \n",
    "              [3, 'Charlie', 17]]\n",
    "\n",
    "df = pd.DataFrame(data=data_array, columns=columns)\n",
    "\n",
    "df"
   ]
  },
  {
   "cell_type": "markdown",
   "metadata": {},
   "source": [
    "Just like we specified columns, we can specify the rows. Usually we don't do this because an index works, but suppose we would like to change our row names to A, B, C:"
   ]
  },
  {
   "cell_type": "code",
   "execution_count": 30,
   "metadata": {},
   "outputs": [
    {
     "data": {
      "text/html": [
       "<div>\n",
       "<style scoped>\n",
       "    .dataframe tbody tr th:only-of-type {\n",
       "        vertical-align: middle;\n",
       "    }\n",
       "\n",
       "    .dataframe tbody tr th {\n",
       "        vertical-align: top;\n",
       "    }\n",
       "\n",
       "    .dataframe thead th {\n",
       "        text-align: right;\n",
       "    }\n",
       "</style>\n",
       "<table border=\"1\" class=\"dataframe\">\n",
       "  <thead>\n",
       "    <tr style=\"text-align: right;\">\n",
       "      <th></th>\n",
       "      <th>Name</th>\n",
       "      <th>Age</th>\n",
       "    </tr>\n",
       "  </thead>\n",
       "  <tbody>\n",
       "    <tr>\n",
       "      <th>A</th>\n",
       "      <td>Alice</td>\n",
       "      <td>25</td>\n",
       "    </tr>\n",
       "    <tr>\n",
       "      <th>B</th>\n",
       "      <td>Bob</td>\n",
       "      <td>30</td>\n",
       "    </tr>\n",
       "    <tr>\n",
       "      <th>C</th>\n",
       "      <td>Charlie</td>\n",
       "      <td>35</td>\n",
       "    </tr>\n",
       "  </tbody>\n",
       "</table>\n",
       "</div>"
      ],
      "text/plain": [
       "      Name  Age\n",
       "A    Alice   25\n",
       "B      Bob   30\n",
       "C  Charlie   35"
      ]
     },
     "execution_count": 30,
     "metadata": {},
     "output_type": "execute_result"
    }
   ],
   "source": [
    "data = {'Name': ['Alice', 'Bob', 'Charlie'], 'Age': [25, 30, 35]}\n",
    "\n",
    "# we can specify the rows using index argument\n",
    "df = pd.DataFrame(data, index=['A', 'B', 'C'])\n",
    "\n",
    "df"
   ]
  },
  {
   "cell_type": "markdown",
   "metadata": {},
   "source": [
    "Observe that we no longer have 0, 1, 2, but instead A, B, C for the row labels."
   ]
  },
  {
   "cell_type": "markdown",
   "metadata": {},
   "source": [
    "### Series Objects\n",
    "\n",
    "Note that each column in a `DataFrame` is a `Series` object! We can "
   ]
  },
  {
   "cell_type": "markdown",
   "metadata": {},
   "source": [
    "### Accessing Data\n",
    "\n",
    "We can retrieve particular columns by indexing the column values. Let's demonstrate this with the following dataframe:"
   ]
  },
  {
   "cell_type": "code",
   "execution_count": 36,
   "metadata": {},
   "outputs": [
    {
     "data": {
      "text/html": [
       "<div>\n",
       "<style scoped>\n",
       "    .dataframe tbody tr th:only-of-type {\n",
       "        vertical-align: middle;\n",
       "    }\n",
       "\n",
       "    .dataframe tbody tr th {\n",
       "        vertical-align: top;\n",
       "    }\n",
       "\n",
       "    .dataframe thead th {\n",
       "        text-align: right;\n",
       "    }\n",
       "</style>\n",
       "<table border=\"1\" class=\"dataframe\">\n",
       "  <thead>\n",
       "    <tr style=\"text-align: right;\">\n",
       "      <th></th>\n",
       "      <th>A</th>\n",
       "      <th>B</th>\n",
       "      <th>C</th>\n",
       "    </tr>\n",
       "  </thead>\n",
       "  <tbody>\n",
       "    <tr>\n",
       "      <th>0</th>\n",
       "      <td>5</td>\n",
       "      <td>Flamingo</td>\n",
       "      <td>Some</td>\n",
       "    </tr>\n",
       "    <tr>\n",
       "      <th>1</th>\n",
       "      <td>6</td>\n",
       "      <td>Zebra</td>\n",
       "      <td>Alex</td>\n",
       "    </tr>\n",
       "    <tr>\n",
       "      <th>2</th>\n",
       "      <td>8</td>\n",
       "      <td>Cart</td>\n",
       "      <td>Apple</td>\n",
       "    </tr>\n",
       "    <tr>\n",
       "      <th>3</th>\n",
       "      <td>9</td>\n",
       "      <td>Bucket</td>\n",
       "      <td>5</td>\n",
       "    </tr>\n",
       "    <tr>\n",
       "      <th>4</th>\n",
       "      <td>7</td>\n",
       "      <td>Samantha</td>\n",
       "      <td>Art</td>\n",
       "    </tr>\n",
       "  </tbody>\n",
       "</table>\n",
       "</div>"
      ],
      "text/plain": [
       "   A         B      C\n",
       "0  5  Flamingo   Some\n",
       "1  6     Zebra   Alex\n",
       "2  8      Cart  Apple\n",
       "3  9    Bucket      5\n",
       "4  7  Samantha    Art"
      ]
     },
     "execution_count": 36,
     "metadata": {},
     "output_type": "execute_result"
    }
   ],
   "source": [
    "import pandas as pd\n",
    "data = {\n",
    "    \"A\": [5, 6, 8, 9, 7],\n",
    "    \"B\": [\"Flamingo\", \"Zebra\", \"Cart\", \"Bucket\", \"Samantha\"],\n",
    "    \"C\": [\"Some\", \"Alex\", \"Apple\", 5, \"Art\"]\n",
    "}\n",
    "\n",
    "df = pd.DataFrame(data)\n",
    "\n",
    "df"
   ]
  },
  {
   "cell_type": "code",
   "execution_count": 39,
   "metadata": {},
   "outputs": [
    {
     "data": {
      "text/plain": [
       "0    5\n",
       "1    6\n",
       "2    8\n",
       "3    9\n",
       "4    7\n",
       "Name: A, dtype: int64"
      ]
     },
     "execution_count": 39,
     "metadata": {},
     "output_type": "execute_result"
    }
   ],
   "source": [
    "df['A']"
   ]
  },
  {
   "cell_type": "markdown",
   "metadata": {},
   "source": [
    "Recall that each column in a `DataFrame` is a `Series` object. Hence, when we return the entire column of `A`, we are returning a series object."
   ]
  },
  {
   "cell_type": "markdown",
   "metadata": {},
   "source": [
    "### Data Cleaning & Retrieving Data from DFs\n",
    "\n",
    "We will look at how we can retrieve particular data from dataframe structures using conditional indexing. We can use conditional indexing to filter and clean our dataframes as desired. \n",
    "\n",
    "Let's see how we can just filter the entire data frame to contain only rows where strings in the B column have a length of greater than 4."
   ]
  },
  {
   "cell_type": "code",
   "execution_count": 33,
   "metadata": {},
   "outputs": [
    {
     "data": {
      "text/html": [
       "<div>\n",
       "<style scoped>\n",
       "    .dataframe tbody tr th:only-of-type {\n",
       "        vertical-align: middle;\n",
       "    }\n",
       "\n",
       "    .dataframe tbody tr th {\n",
       "        vertical-align: top;\n",
       "    }\n",
       "\n",
       "    .dataframe thead th {\n",
       "        text-align: right;\n",
       "    }\n",
       "</style>\n",
       "<table border=\"1\" class=\"dataframe\">\n",
       "  <thead>\n",
       "    <tr style=\"text-align: right;\">\n",
       "      <th></th>\n",
       "      <th>A</th>\n",
       "      <th>B</th>\n",
       "      <th>C</th>\n",
       "    </tr>\n",
       "  </thead>\n",
       "  <tbody>\n",
       "    <tr>\n",
       "      <th>0</th>\n",
       "      <td>5</td>\n",
       "      <td>Flamingo</td>\n",
       "      <td>Some</td>\n",
       "    </tr>\n",
       "    <tr>\n",
       "      <th>1</th>\n",
       "      <td>6</td>\n",
       "      <td>Zebra</td>\n",
       "      <td>Alex</td>\n",
       "    </tr>\n",
       "    <tr>\n",
       "      <th>3</th>\n",
       "      <td>9</td>\n",
       "      <td>Bucket</td>\n",
       "      <td>5</td>\n",
       "    </tr>\n",
       "    <tr>\n",
       "      <th>4</th>\n",
       "      <td>7</td>\n",
       "      <td>Samantha</td>\n",
       "      <td>Art</td>\n",
       "    </tr>\n",
       "  </tbody>\n",
       "</table>\n",
       "</div>"
      ],
      "text/plain": [
       "   A         B     C\n",
       "0  5  Flamingo  Some\n",
       "1  6     Zebra  Alex\n",
       "3  9    Bucket     5\n",
       "4  7  Samantha   Art"
      ]
     },
     "execution_count": 33,
     "metadata": {},
     "output_type": "execute_result"
    }
   ],
   "source": [
    "df[df['B'].str.len() > 4] # returns a new filtered dataframe"
   ]
  },
  {
   "cell_type": "markdown",
   "metadata": {},
   "source": [
    "Now, suppose we want a list of all the values in column A, where the string in column B is greater than a length of 4. We"
   ]
  },
  {
   "cell_type": "code",
   "execution_count": null,
   "metadata": {},
   "outputs": [],
   "source": [
    "df[df['B'].str.len() > 4]"
   ]
  },
  {
   "cell_type": "markdown",
   "metadata": {},
   "source": [
    "---\n",
    "## Matplotlib"
   ]
  },
  {
   "cell_type": "markdown",
   "metadata": {},
   "source": [
    "### Intro\n",
    "\n",
    "Matplotlib is a fairly easy to use tool. It is mainly for just visualizing graphs or depictions of data. You just need to memorize different functions and the syntax to use, that's it.\n",
    "\n",
    "**plt.show()** : used to show the most recently plot created using `matplotlib.pyplot`. \n",
    "- optional for Jupyter because the notebook interface automatically displays plot (but it's cleaner when we use it regardless)\n",
    "- needed for actual Python scripts or it won't show otherwise\n",
    "- also starts and event loop that waits for any interactions with the figure such as key presses or mouse clicks. the loop termiantes when the figure is closed\n",
    "- blocks python script from executing while showing the figure. this is because of the event loop. control is returned to the script when figure is closed"
   ]
  },
  {
   "cell_type": "markdown",
   "metadata": {},
   "source": [
    "### Box Plots"
   ]
  },
  {
   "cell_type": "markdown",
   "metadata": {},
   "source": [
    "Box plots, also known as box and whisker plots, are a compact graphical depiction of some distribution data. For example, we can make a box plot for the grade distribution of students at a university."
   ]
  },
  {
   "cell_type": "code",
   "execution_count": 7,
   "metadata": {},
   "outputs": [
    {
     "data": {
      "image/png": "[encoded data removed]",
      "text/plain": [
       "<Figure size 640x480 with 1 Axes>"
      ]
     },
     "metadata": {},
     "output_type": "display_data"
    }
   ],
   "source": [
    "import matplotlib.pyplot as plt\n",
    "\n",
    "grades = [88, 74, 96, 85, 62, 55, 91, 77, 83, 90, 78, 80, 87, 95, 72, 69, 88, 92, 85, 76, 93, 81, 94, 79, 84, 70, 89, 82, 75, 86, 73, 97, 68, 71, 98, 67, 60, 99, 66, 63, 30, 65, 61, 59, 64, 58]\n",
    "plt.boxplot(grades) # very simple syntax\n",
    "\n",
    "# used to set the x-axis labels\n",
    "plt.xticks([1], ['Grades'])\n",
    "\n",
    "plt.show()"
   ]
  },
  {
   "cell_type": "markdown",
   "metadata": {},
   "source": [
    "#### Interpreting Boxplots\n",
    "The solid line through the middle of the boxplot represents the median value. This whiskers represent the variability outside the upper and lower quartiles. The lone dot outside the whiskers represents an outlier. I'll explain all this stuff below:\n",
    "\n",
    "**Quartiles** : quartiles are statstical measures that divide a dataset into four equal parts. There are 3 quartiles, Q1, Q2, and Q3\n",
    "- Q1 : the value below which 25% of the data falls. aka: 25th percentile or lower quartile\n",
    "- Q2 : the value below which 50% of the data falls. aka: 50th percentile or median\n",
    "- Q3 : the value below which 75% of the data falls. aka: 75th percentile or upper quartile\n",
    "\n",
    "Below is an image showing more information."
   ]
  },
  {
   "cell_type": "code",
   "execution_count": 19,
   "metadata": {},
   "outputs": [
    {
     "data": {
      "image/png": "[encoded data removed]",
      "text/plain": [
       "<Figure size 640x480 with 1 Axes>"
      ]
     },
     "metadata": {},
     "output_type": "display_data"
    }
   ],
   "source": [
    "import matplotlib.image as mpim\n",
    "import matplotlib.pyplot as plt\n",
    "\n",
    "# very easy to read images! just use matplotlib.image.imread\n",
    "img = mpim.imread('assets/boxplot_info.jpg')\n",
    "plt.axis('off')\n",
    "plt.imshow(img) # imshow \"loads the image into plt\" for displaying\n",
    "plt.show()"
   ]
  },
  {
   "cell_type": "markdown",
   "metadata": {},
   "source": [
    "**IQR** : the interquartile range represents the middle 50% of the distribution, ie) range between 25th and 75th percentile\n",
    "\n",
    "**Outliers** : data points that fall outside a particular range of the distribution. these are determined as follows:\n",
    "- calculate IQR: Q3 - Q1\n",
    "- calculate lower bound for outliers: lowerbound = Q1 - 1.5 * IQR\n",
    "- calculate upper bound for outliers: upperbound = Q3 + 1.5 * IQR\n",
    "\n",
    "**Max and Min** : highest and lowest scores, excluding outliers. these are just the lower and upper bounds as specified above.\n",
    "- min = Q1 - 1.5 * IQR\n",
    "- max = Q3 + 1.5 * IQR"
   ]
  },
  {
   "cell_type": "markdown",
   "metadata": {},
   "source": [
    "### Heatmaps\n",
    "\n",
    "Heatmaps are a neat way to visualize 2D data. For example, a multivariable function can be displayed in a 2D manner using coloured contour maps. Heatmaps are much like this.\n",
    "\n",
    "We will need the `seaborn` library to plot heatmaps in `matplotlib`. Note that the `seaborn` is a data visualization library based on `matplotlib`.\n",
    "\n",
    "Suppose we want to visualize the following 2D data set below:"
   ]
  },
  {
   "cell_type": "code",
   "execution_count": 24,
   "metadata": {},
   "outputs": [
    {
     "data": {
      "text/html": [
       "<div>\n",
       "<style scoped>\n",
       "    .dataframe tbody tr th:only-of-type {\n",
       "        vertical-align: middle;\n",
       "    }\n",
       "\n",
       "    .dataframe tbody tr th {\n",
       "        vertical-align: top;\n",
       "    }\n",
       "\n",
       "    .dataframe thead th {\n",
       "        text-align: right;\n",
       "    }\n",
       "</style>\n",
       "<table border=\"1\" class=\"dataframe\">\n",
       "  <thead>\n",
       "    <tr style=\"text-align: right;\">\n",
       "      <th></th>\n",
       "      <th>1000</th>\n",
       "      <th>2000</th>\n",
       "      <th>3000</th>\n",
       "    </tr>\n",
       "  </thead>\n",
       "  <tbody>\n",
       "    <tr>\n",
       "      <th>8</th>\n",
       "      <td>40</td>\n",
       "      <td>2</td>\n",
       "      <td>15</td>\n",
       "    </tr>\n",
       "    <tr>\n",
       "      <th>9</th>\n",
       "      <td>94</td>\n",
       "      <td>99</td>\n",
       "      <td>71</td>\n",
       "    </tr>\n",
       "    <tr>\n",
       "      <th>10</th>\n",
       "      <td>47</td>\n",
       "      <td>38</td>\n",
       "      <td>29</td>\n",
       "    </tr>\n",
       "  </tbody>\n",
       "</table>\n",
       "</div>"
      ],
      "text/plain": [
       "    1000  2000  3000\n",
       "8     40     2    15\n",
       "9     94    99    71\n",
       "10    47    38    29"
      ]
     },
     "execution_count": 24,
     "metadata": {},
     "output_type": "execute_result"
    }
   ],
   "source": [
    "import matplotlib.pyplot as plt\n",
    "import seaborn as sns\n",
    "import pandas as pd\n",
    "\n",
    "df = pd.DataFrame([[40, 2, 15], \n",
    "                   [94, 99, 71], \n",
    "                   [47, 38, 29]], \n",
    "                   columns=['1000', '2000', '3000'],\n",
    "                   index=['8', '9', '10'])\n",
    "\n",
    "df"
   ]
  },
  {
   "cell_type": "markdown",
   "metadata": {},
   "source": [
    "Note that the row values represent hours slept (8, 9, 10), and the column values represent calarioes eaten (1000, 2000, 3000). The actual data represents the number of people who have a good health score.\n",
    "\n",
    "We can think of this like a multi-variable function, `z = f(x,y)`, where x and y are the calorie intake and sleep, and z is the number of people who get a good health score.\n",
    "\n",
    "Another way to think about it is that each data point is an input with two features: calorie intake and sleep. The label is the health score!\n",
    "\n",
    "We can visualize this on a heatmap as follows:"
   ]
  },
  {
   "cell_type": "code",
   "execution_count": 26,
   "metadata": {},
   "outputs": [
    {
     "data": {
      "image/png": "[encoded data removed]",
      "text/plain": [
       "<Figure size 640x480 with 2 Axes>"
      ]
     },
     "metadata": {},
     "output_type": "display_data"
    }
   ],
   "source": [
    "ax = sns.heatmap(df)\n",
    "plt.show()"
   ]
  },
  {
   "cell_type": "markdown",
   "metadata": {},
   "source": [
    "## Numpy"
   ]
  },
  {
   "cell_type": "markdown",
   "metadata": {},
   "source": [
    "### Matrix Multiplication\n",
    "\n",
    "We will write a Python script to generate two random matrices, multiply them, and chek whether their result is identical. \n",
    "\n",
    "We show matrix multiplication both with NumPy and using for loops."
   ]
  },
  {
   "cell_type": "code",
   "execution_count": 12,
   "metadata": {},
   "outputs": [
    {
     "data": {
      "text/plain": [
       "True"
      ]
     },
     "execution_count": 12,
     "metadata": {},
     "output_type": "execute_result"
    }
   ],
   "source": [
    "import numpy as np\n",
    "\n",
    "def multiply_with_loops(A, B):\n",
    "    # get the dimensions of the input matrices\n",
    "    # we will assume that the matrices are just nested lists\n",
    "    rows_A = len(A)\n",
    "    cols_A = len(A[0])\n",
    "    cols_B = len(B[0])\n",
    "    C = [[0 for row in range(cols_B)] for col in range(rows_A)]\n",
    "\n",
    "    # we will assume that the matrices are compatible for multiplication\n",
    "    for i in range(rows_A): # iterate over the rows of A\n",
    "        for j in range(cols_B): # iterate over the columns of B\n",
    "            for k in range(cols_A): \n",
    "                C[i][j] += A[i][k] * B[k][j]\n",
    "\n",
    "    return C\n",
    "\n",
    "def multiply_with_numpy(A, B):\n",
    "    return np.dot(A, B)\n",
    "\n",
    "def check_equal(A, B):\n",
    "    A = np.array(A)\n",
    "    return np.allclose(A, B) # this function checks if two arrays are equal within some tolerance \n",
    "    # this is because numpy arrays round off the values more than python lists\n",
    "\n",
    "# create two random matrices of dimensions 2x3 and 3x4 respectively\n",
    "A = np.random.rand(2, 3)\n",
    "B = np.random.rand(3, 4)\n",
    "\n",
    "check_equal(multiply_with_loops(A, B), multiply_with_numpy(A, B))"
   ]
  },
  {
   "cell_type": "markdown",
   "metadata": {},
   "source": []
  }
 ],
 "metadata": {
  "kernelspec": {
   "display_name": "env",
   "language": "python",
   "name": "python3"
  },
  "language_info": {
   "codemirror_mode": {
    "name": "ipython",
    "version": 3
   },
   "file_extension": ".py",
   "mimetype": "text/x-python",
   "name": "python",
   "nbconvert_exporter": "python",
   "pygments_lexer": "ipython3",
   "version": "3.12.1"
  }
 },
 "nbformat": 4,
 "nbformat_minor": 2
}
