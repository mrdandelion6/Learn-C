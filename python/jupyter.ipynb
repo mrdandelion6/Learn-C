{
 "cells": [
  {
   "cell_type": "markdown",
   "metadata": {},
   "source": [
    "# Learn Jupyter\n",
    "\n",
    "This is a comprehrensive guide on learning how to use Jupyter. Jupyter notebooks contains live code, equations, visualizations, and narrative text. They're widely used in data analysis, data visualization, and machine learning. "
   ]
  },
  {
   "cell_type": "markdown",
   "metadata": {},
   "source": [
    "---\n",
    "## Cells\n",
    "\n",
    "A Jupyter notebook consists of cells. These cells can be code cells, markdown cells, or raw cells. In Jupyter, you can either be in command mode or editing mode. Command mode is for navigating cells and edit mode is for editing individual cells.\n",
    "\n",
    "In command mode you can press arrow up and arrow down to navigate between the code cells. While in command mode you can press several different key shortcuts to do different things. A list of Jupyter Commands can be found down below.\n",
    "\n",
    "### Code Cells\n",
    "You can run a code cell while being in command mode and pressing *shift + enter* or pressing the *Run* button. The output will be displayed below the cell. Code cells can output text, plots, or other media types. This is why Jupyter is so nice for data analysis.\n",
    "\n",
    "### Markdown Cells\n",
    "Markdown cells are very simple. They just contain, well, markdown. What you're reading right now is a markdown cell!\n",
    "\n",
    "### Raw Cells\n",
    "Raw cells are less common and contain content that is not executed by the notebook's kernel. They are not formatted in any way and are left as is when the notebook is rendered. More about notebook rendering later."
   ]
  },
  {
   "cell_type": "markdown",
   "metadata": {},
   "source": [
    "## Jupyter Commands\n",
    "Here is a list of useful keyboard commands in Jupyter\n",
    "\n",
    "- Enter command mode : ESC (don't need to be in command mode for this command obviously).\n",
    "- Execute code cell and/or finish editing : SHIFT + ENTER\n",
    "- Create code cell below : B\n",
    "- Create code cell above : A\n",
    "- Delete cell: double press D\n",
    "- Turn cell into markdown : M\n",
    "- Turn cell into code : press Y"
   ]
  },
  {
   "cell_type": "markdown",
   "metadata": {},
   "source": [
    "---\n",
    "## Kernels\n",
    "In Jupyter, you can have different code languages that you would like to execute, not just Python. The kernel is the computational engine that executes your code. For Python, this could be the Python interpreter for your virtual environment. "
   ]
  },
  {
   "cell_type": "markdown",
   "metadata": {},
   "source": [
    "---\n",
    "## Magic Commands\n",
    "\n",
    "Jupyter has special commands called \"magic\" commands that are not part of Python or other coding languages but can control the ntoebook or perform system commands. They are prefixed with `%` or `%%`. "
   ]
  }
 ],
 "metadata": {
  "language_info": {
   "name": "python"
  }
 },
 "nbformat": 4,
 "nbformat_minor": 2
}
