{
 "cells": [
  {
   "cell_type": "markdown",
   "metadata": {},
   "source": [
    "# HTTP Requests and Responses\n",
    "\n",
    "welcome to my notes on how HTTP works. \n",
    "\n",
    "first let's ask *why do we need to know how HTTP works* as software engineers?\n",
    "\n",
    "short answer: **data transfer**. long answer: **read on**.\n",
    "\n",
    "## Why do we need to know how HTTP works?\n",
    "\n",
    "before we dive into what HTTP is and how it works exactly, let us explore some motivation. the following points provide a brief overview of why understanding HTTP is important for software engineers. more detailed explanations for each point will be provided in the subsequent sections.\n",
    "\n",
    "### 1. Web Development and API Integration\n",
    "- **web applications**: web apps rely on HTTP to communicate between the client and the server.\n",
    "- **RESTful APIs**: many modern web services and apps communicate using RESTful APIs, which rely on HTTP methods (GET, POST, PUT, DELETE) to perform operations.\n",
    "  - several other protocols are built on top of HTTP, such as SOAP and GraphQL, which are also used to build APIs.\n",
    "\n",
    "### 2. Performance Optimization\n",
    "- **caching**: knowledge of HTTP headers and status codes enables engineers to implemente *caching strategies*. understanding how caching works can help you optimize your web app's performance.\n",
    "- **compression**: HTTP supports compression of responses, which can help reduce the size of the data being transferred over the network.\n",
    "\n",
    "### 3. Security\n",
    "- **HTTPS**: understanding how HTTPS works can help you secure your web app by encrypting the data being transferred between the client and the server using SSL/TLS. this is crucial for protecting sensitive information such as passwords and payment details.\n",
    "- **authentication services**: many authentication services rely on HTTP headers to pass authentication tokens between the client and the server.\n",
    "\n",
    "### 4. Debugging and Troubleshooting\n",
    "- **analyzing traffic**:  tools like browser developer tools, postman, and network analyzers rely on HTTP knwoledge to inspect and debug traffic between clients and servers.\n",
    "- **error handling**: understanding HTTP status codes can help you diagnose and troubleshoot issues with your web app and services.\n",
    "\n",
    "### 5. Microservices and Distributed Systems\n",
    "- **service-to-service communication**: in a microservices architecture, services communicate with each other over HTTP. understanding how HTTP works is essential for building and maintaining microservices.\n",
    "\n",
    "### 6. Frontend and Backend Integration\n",
    "- **data fetching**: frontend applications (using  JS frameworks like React, Angular, or Vue) often fetch data from backend servers using HTTP requests.\n",
    "- **cross origin resource sharing (CORS)**: understanding CORS policies and how HTTP configurations can help you avoid CORS issues when integrating frontend and backend services. vital for restrict or enabling access to resources on different domains."
   ]
  },
  {
   "cell_type": "markdown",
   "metadata": {
    "vscode": {
     "languageId": "plaintext"
    }
   },
   "source": [
    "## Hyper Text Transfer Protocol (HTTP)\n",
    "\n",
    "now that we have established the importance of understanding HTTP, let's dive into what HTTP is and how it works.\n",
    "\n",
    "HTTP is a protocol that allows the fetching of resources, such as HTML documents, API endpoints, or images, over the internet. it is the foundation of any data exchange on the web. clients send requests to servers, and servers send responses back to clients.\n",
    "\n",
    "by protocol, we mean a set of rules that determine how data is transferred between two or more devices. in this case, the devices are the client and the server. HTTP allows the communication between different systems as it is a universal standard.\n",
    "\n",
    "in the following sections, we will explore the key features of HTTP, including requests, responses, methods, headers, status codes, cookies, and more."
   ]
  },
  {
   "cell_type": "markdown",
   "metadata": {
    "vscode": {
     "languageId": "plaintext"
    }
   },
   "source": [
    "## Request and Response Cycle\n",
    "\n",
    "HTTP is a request-response protocol. a client sends a request to the server. the server then processes the request and sends a response back to the client."
   ]
  },
  {
   "cell_type": "markdown",
   "metadata": {},
   "source": [
    "## HTTP is Stateless\n",
    "\n",
    "HTTP is a stateless protocol. this means that each request is independent and not related to any previous request. this is because the server does not store any information about the previous request. this makes it easier to scale the system because the server does not need to keep track of the state of each client.\n",
    "\n",
    "however, things things like cookies and sessions can be added to maintain state between requests. HTTP on its own is stateless, but these additional features can be used to maintain state. \n",
    "\n",
    "####  Cookies\n",
    "cookies are small pieces of data that are stored on the client's computer. they are used to store information about the client between requests. for example, a cookie can be used to store authentication information so that the client does not have to log in every time they make a request.\n",
    "\n",
    "#### Sessions\n",
    "sessions allow the server to store information about the client between requests, such as authentication information (again) so that the client does not have to log in every time they make a request for their session."
   ]
  },
  {
   "cell_type": "markdown",
   "metadata": {},
   "source": [
    "## HTTPS\n",
    "\n",
    "HTTPS is a secure version of HTTP. it **encrypts** the data that is sent between the client and the server, making it more secure. HTTPS is used for sensitive data such as passwords, credit card numbers, and personal information. the S in HTTPS stands for secure.\n",
    "\n",
    "### HTTPS Encryption\n",
    "\n",
    "HTTPS uses **SSL/TLS** to encrypt the data that is sent between the client and the server. SSL/TLS stands for Secure Sockets Layer/Transport Layer Security. it is a protocol that encrypts the data that is sent between the client and the server, making it more secure. \n",
    "\n",
    "Things like contact forms should have HTTPS. You can do this by installing an SSL certificate on your server."
   ]
  },
  {
   "cell_type": "markdown",
   "metadata": {},
   "source": [
    "## HTTP Methods\n",
    "\n",
    "#### GET\n",
    "retrieves data from server\n",
    "\n",
    "#### POST\n",
    "submits data to the server\n",
    "\n",
    "#### PUT\n",
    "updates data on the server\n",
    "\n",
    "#### DELETE\n",
    "deletes data from the server"
   ]
  },
  {
   "cell_type": "markdown",
   "metadata": {},
   "source": [
    "## HTTP Headers\n",
    "\n",
    "for each request and response, HTTP headers can be used to pass additional information. headers are key-value pairs (like JSON) that provide metadata about the request or response. let's take a look at a Python example with the `requests` library for the *Eleven Labs API*.\n",
    "\n",
    "for our purposes, the Eleven Labs API is a simple API that allows you to create AI voice audio from text. following along with the examples below, we will show a POST and GET request to the Eleven Labs API."
   ]
  },
  {
   "cell_type": "code",
   "execution_count": 6,
   "metadata": {},
   "outputs": [],
   "source": [
    "import requests\n",
    "import json\n",
    "\n",
    "headers = {\n",
    "  \"Accept\": \"audio/mpeg\", \n",
    "  \"Content-Type\": \"application/json\",\n",
    "  \"xi-api-key\": \"<xi-api-key>\"\n",
    "}"
   ]
  },
  {
   "cell_type": "markdown",
   "metadata": {},
   "source": [
    "note that `headers` contains information about the request, such as the api key, the content type, and the type of response that is expected.\n",
    "\n",
    "other common headers include:\n",
    "- `Cookies`: used to store information about the client between requests\n",
    "- `User-Agent`: used to identify the client making the request\n",
    "- `Content-Length`: used to specify the length of the content in the request or response\n",
    "- `Referer`: used to specify the URL of the page that linked to the resource being requested"
   ]
  },
  {
   "cell_type": "markdown",
   "metadata": {},
   "source": [
    "## HTTP Data\n",
    "\n",
    "HTTP requests and responses usually contain data. this data can be in different formats, such as JSON, XML, or form data. we'll again take a look at a Python example with the `requests` library for the *Eleven Labs API*. \n",
    "\n",
    "note that HTTP requests can be made through different interfaces, such as the command line, browser, or programming languages like Python, JavaScript, or Java. something like using Python's `requests` library makes the HTTP requests very simple and easy to understand. later on, we will also explore how to make HTTP requests in other ways."
   ]
  },
  {
   "cell_type": "code",
   "execution_count": 7,
   "metadata": {},
   "outputs": [],
   "source": [
    "data = {\n",
    "    \"text\": \"Hello, World!\",\n",
    "    \"model_id\": \"eleven_monolingual_v1\",\n",
    "    \"voice_settings\": {\n",
    "        \"stability\": 0.5,\n",
    "        \"similarity_boost\": 0.5\n",
    "    }\n",
    "}"
   ]
  },
  {
   "cell_type": "markdown",
   "metadata": {},
   "source": [
    "now that we have our `data` and `headers`, we can make a POST request to the Eleven Labs API to create an AI voice audio from text after we make a url."
   ]
  },
  {
   "cell_type": "code",
   "execution_count": 8,
   "metadata": {},
   "outputs": [],
   "source": [
    "url = \"https://api.elevenlabs.io/v1/text-to-speech/<voice-id>\""
   ]
  },
  {
   "cell_type": "markdown",
   "metadata": {},
   "source": [
    "this url is the endpoint of the API that we are making a request to. specifically, we are making a POST request to `/text-to-speech/<voice-id>` endpoint.  "
   ]
  },
  {
   "cell_type": "code",
   "execution_count": 10,
   "metadata": {},
   "outputs": [
    {
     "name": "stdout",
     "output_type": "stream",
     "text": [
      "{\"detail\":{\"status\":\"invalid_uid\",\"message\":\"An invalid ID has been received: '<voice-id>'. Make sure to provide a correct one.\"}}\n"
     ]
    }
   ],
   "source": [
    "response = requests.post(url, json=data, headers=headers) # POST REQUEST !!\n",
    "\n",
    "CHUNK_SIZE = 1024\n",
    "\n",
    "if response.ok:\n",
    "    with open(\"output.mp3\", \"wb\") as f:\n",
    "        for chunk in response.iter_content(CHUNK_SIZE):\n",
    "            if chunk:\n",
    "                f.write(chunk)\n",
    "else:\n",
    "    print(response.text)"
   ]
  },
  {
   "cell_type": "markdown",
   "metadata": {},
   "source": [
    "as you can see from running the code above, the response was not successful, hence `response.ok` is `False`. this is because we did not provide the voice id endpoint in the url, but just our dummy text `'<voice-id>'`. moreover, even if we had provided the correct endpoint, we would still get an error because we did not provide the correct API key in the headers.\n",
    "\n",
    "the result was:\n",
    "```\n",
    "{\"detail\":{\"status\":\"invalid_uid\",\"message\":\"An invalid ID has been received: '<voice-id>'. Make sure to provide a correct one.\"}}\n",
    "```"
   ]
  },
  {
   "cell_type": "markdown",
   "metadata": {},
   "source": [
    "## HTTP Status Codes"
   ]
  },
  {
   "cell_type": "markdown",
   "metadata": {},
   "source": []
  }
 ],
 "metadata": {
  "kernelspec": {
   "display_name": "Learn-to-Code",
   "language": "python",
   "name": "python3"
  },
  "language_info": {
   "codemirror_mode": {
    "name": "ipython",
    "version": 3
   },
   "file_extension": ".py",
   "mimetype": "text/x-python",
   "name": "python",
   "nbconvert_exporter": "python",
   "pygments_lexer": "ipython3",
   "version": "3.12.1"
  }
 },
 "nbformat": 4,
 "nbformat_minor": 2
}
