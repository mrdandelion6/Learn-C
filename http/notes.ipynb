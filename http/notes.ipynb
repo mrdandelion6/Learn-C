{
 "cells": [
  {
   "cell_type": "markdown",
   "metadata": {},
   "source": [
    "# HTTP Requests and Responses\n",
    "\n",
    "welcome to my notes on how HTTP works. \n",
    "\n",
    "first let's ask *why do we need to know how HTTP works* as software engineers?\n",
    "\n",
    "short answer: **data transfer**. long answer: **read on**.\n",
    "\n",
    "## Why do we need to know how HTTP works?\n",
    "\n",
    "before we dive into what HTTP is and how it works exactly, let us explore some motivation. the following points provide a brief overview of why understanding HTTP is important for software engineers. more detailed explanations for each point will be provided in the subsequent sections.\n",
    "\n",
    "### 1. Web Development and API Integration\n",
    "- **web applications**: web apps rely on HTTP to communicate between the client and the server.\n",
    "- **RESTful APIs**: many modern web services and apps communicate using RESTful APIs, which rely on HTTP methods (GET, POST, PUT, DELETE) to perform operations.\n",
    "  - several other protocols are built on top of HTTP, such as SOAP and GraphQL, which are also used to build APIs.\n",
    "\n",
    "### 2. Performance Optimization\n",
    "- **caching**: knowledge of HTTP headers and status codes enables engineers to implemente *caching strategies*. understanding how caching works can help you optimize your web app's performance.\n",
    "- **compression**: HTTP supports compression of responses, which can help reduce the size of the data being transferred over the network.\n",
    "\n",
    "### 3. Security\n",
    "- **HTTPS**: understanding how HTTPS works can help you secure your web app by encrypting the data being transferred between the client and the server using SSL/TLS. this is crucial for protecting sensitive information such as passwords and payment details.\n",
    "- **authentication services**: many authentication services rely on HTTP headers to pass authentication tokens between the client and the server."
   ]
  },
  {
   "cell_type": "markdown",
   "metadata": {
    "vscode": {
     "languageId": "plaintext"
    }
   },
   "source": [
    "## Hyper Text Transfer Protocol (HTTP)\n",
    "\n",
    "now that we have established the importance of understanding HTTP, let's dive into what HTTP is and how it works.\n",
    "\n",
    "HTTP is a protocol that allows the fetching of resources, such as HTML documents, API endpoints, or images, over the internet. it is the foundation of any data exchange on the web. clients send requests to servers, and servers send responses back to clients.\n",
    "\n",
    "by protocol, we mean a set of rules that determine how data is transferred between two or more devices. in this case, the devices are the client and the server. HTTP allows the communication between different systems as it is a universal standard.\n",
    "\n",
    "in the following sections, we will explore the key features of HTTP, including requests, responses, methods, headers, status codes, cookies, and more."
   ]
  },
  {
   "cell_type": "markdown",
   "metadata": {
    "vscode": {
     "languageId": "plaintext"
    }
   },
   "source": [
    "## Request and Response Cycle\n",
    "\n",
    "HTTP is a request-response protocol. a client sends a request to the server. the server then processes the request and sends a response back to the client."
   ]
  },
  {
   "cell_type": "markdown",
   "metadata": {},
   "source": [
    "## HTTP is Stateless\n",
    "\n",
    "HTTP is a stateless protocol. this means that each request is independent and not related to any previous request. this is because the server does not store any information about the previous request. this makes it easier to scale the system because the server does not need to keep track of the state of each client.\n",
    "\n",
    "however, things things like cookies and sessions can be added to maintain state between requests. HTTP on its own is stateless, but these additional features can be used to maintain state. \n",
    "\n",
    "####  Cookies\n",
    "cookies are small pieces of data that are stored on the client's computer. they are used to store information about the client between requests. for example, a cookie can be used to store authentication information so that the client does not have to log in every time they make a request.\n",
    "\n",
    "#### Sessions\n",
    "sessions allow the server to store information about the client between requests, such as authentication information (again) so that the client does not have to log in every time they make a request for their session."
   ]
  },
  {
   "cell_type": "markdown",
   "metadata": {},
   "source": [
    "## HTTPS\n",
    "\n",
    "HTTPS is a secure version of HTTP. it **encrypts** the data that is sent between the client and the server, making it more secure. HTTPS is used for sensitive data such as passwords, credit card numbers, and personal information. the S in HTTPS stands for secure.\n",
    "\n",
    "### HTTPS Encryption\n",
    "\n",
    "HTTPS uses **SSL/TLS** to encrypt the data that is sent between the client and the server. SSL/TLS stands for Secure Sockets Layer/Transport Layer Security. it is a protocol that encrypts the data that is sent between the client and the server, making it more secure."
   ]
  }
 ],
 "metadata": {
  "language_info": {
   "name": "python"
  }
 },
 "nbformat": 4,
 "nbformat_minor": 2
}
